{
 "cells": [
  {
   "cell_type": "markdown",
   "metadata": {},
   "source": [
    "# Section 2 - Coding\n",
    "\n",
    "In this section we will load and manipulate \"unconventional\" data files - for which you will be required to create a simple loading functionality and then be able to process and query a data file.\n",
    "\n",
    "There is a \"section2_data.txt\" file attached to this IPython notebook. The data file contains few rows from a computer vision dataset. Each row corresponds to a frame in a video and contains some metadata and annotations over it.\n",
    "\n",
    "The following notebook will pose some questions about reading and processing this data.\n",
    "\n",
    "Feel free to use any existing python library to answer the questions."
   ]
  },
  {
   "cell_type": "code",
   "execution_count": 1,
   "metadata": {},
   "outputs": [
    {
     "name": "stdout",
     "output_type": "stream",
     "text": [
      "{\"_i\": 0, \"frame\": \"frame_000.png\", \"video\": \"video000\", \"value\": 39, \"labels\": [\"bird\"]}\r\n",
      "{\"_i\": 1, \"frame\": \"frame_001.png\", \"video\": \"video000\", \"value\": 33, \"labels\": [\"frog\", \"dog\"]}\r\n",
      "{\"_i\": 2, \"frame\": \"frame_002.png\", \"video\": \"video000\", \"value\": 25, \"labels\": [\"panda\", \"panda\"]}\r\n",
      "{\"_i\": 3, \"frame\": \"frame_003.png\", \"video\": \"video000\", \"value\": 28, \"labels\": [\"dog\", \"dog\"]}\r\n",
      "{\"_i\": 4, \"frame\": \"frame_004.png\", \"video\": \"video000\", \"value\": 16, \"labels\": [\"cat\"]}\r\n",
      "{\"_i\": 5, \"frame\": \"frame_005.png\", \"video\": \"video000\", \"value\": 32, \"labels\": [\"bird\", \"frog\", \"bird\"]}\r\n",
      "{\"_i\": 6, \"frame\": \"frame_006.png\", \"video\": \"video000\", \"value\": 35, \"labels\": [\"bird\", \"dog\"]}\r\n",
      "{\"_i\": 7, \"frame\": \"frame_000.png\", \"video\": \"video001\", \"value\": 25, \"labels\": [\"dog\", \"bird\"]}\r\n",
      "{\"_i\": 8, \"frame\": \"frame_001.png\", \"video\": \"video001\", \"value\": 16, \"labels\": [\"dog\", \"panda\", \"bird\"]}\r\n",
      "{\"_i\": 9, \"frame\": \"frame_002.png\", \"video\": \"video001\", \"value\": 23, \"labels\": [\"panda\"]}\r\n"
     ]
    }
   ],
   "source": [
    "!head section2_data.txt"
   ]
  },
  {
   "cell_type": "markdown",
   "metadata": {},
   "source": [
    "## Section 1 - Design a data loader\n",
    "\n",
    "Design a data structure, that give a file path `\"section2_data.txt\"`, it will read and parse the contents of the file above.\n",
    "\n",
    "#### Q1 - Design the data structure with the following properties:\n",
    "- The data structure is either callable or indexable. It will accepts a single parameter, as integer, and return the parsed contents of the row corresponding to the given index.\n",
    "- The data structure needs to return the number of rows in the file (and in memory) when called with the python command `len(my_data_struct)`\n"
   ]
  },
  {
   "cell_type": "code",
   "execution_count": null,
   "metadata": {
    "ExecuteTime": {
     "end_time": "2021-06-22T09:41:50.450031Z",
     "start_time": "2021-06-22T09:41:50.441896Z"
    }
   },
   "outputs": [],
   "source": [
    "## YOUR SOLUTION\n"
   ]
  },
  {
   "cell_type": "markdown",
   "metadata": {},
   "source": [
    "#### Q2 - Prove that you can initialize the reader and then calculate its length `len(reader)` and print the 26th and 43rd elements of the dataset."
   ]
  },
  {
   "cell_type": "code",
   "execution_count": null,
   "metadata": {},
   "outputs": [],
   "source": [
    "## YOUR SOLUTION\n"
   ]
  },
  {
   "cell_type": "markdown",
   "metadata": {},
   "source": [
    "## Section 2 - Process the data\n",
    "\n",
    "#### Q1 - Write an algorithm that will generate a dictionary with key/value pairs, where the keys are the name of each unique video in the dataset and the value is the number of frames of that video."
   ]
  },
  {
   "cell_type": "code",
   "execution_count": null,
   "metadata": {},
   "outputs": [],
   "source": [
    "### YOUT SOLUTION\n",
    "def video_frame_count(my_data_struct):\n",
    "    "
   ]
  },
  {
   "cell_type": "markdown",
   "metadata": {},
   "source": [
    "#### Q2 - Write an algorithm that will generate a dictionary with key/value pairs, where the keys are the name of each unique video in the dataset and the value is the sum of the `value` field of all the frames containing a `dog`."
   ]
  },
  {
   "cell_type": "code",
   "execution_count": null,
   "metadata": {},
   "outputs": [],
   "source": [
    "### YOUR SOLUTION\n",
    "def video_value_sum_with_dog(my_data_struct):\n",
    "            "
   ]
  },
  {
   "cell_type": "markdown",
   "metadata": {},
   "source": [
    "#### Q3 - Last, create an algorithm that returns a dictionary with the count of each of the animal types in the dataset, excluding occurrences in `video003` and rows where the `value` is odd."
   ]
  },
  {
   "cell_type": "code",
   "execution_count": null,
   "metadata": {},
   "outputs": [],
   "source": [
    "### YOUR SOLUTION\n",
    "def animal_count(my_data_struct):\n",
    "   "
   ]
  },
  {
   "cell_type": "code",
   "execution_count": null,
   "metadata": {},
   "outputs": [],
   "source": []
  }
 ],
 "metadata": {
  "interpreter": {
   "hash": "569d6b7e9215e11aba41c6454007e5c1b78bad7df09dab765d8cf00362c40f03"
  },
  "kernelspec": {
   "display_name": "Python 3",
   "language": "python",
   "name": "python3"
  },
  "language_info": {
   "codemirror_mode": {
    "name": "ipython",
    "version": 3
   },
   "file_extension": ".py",
   "mimetype": "text/x-python",
   "name": "python",
   "nbconvert_exporter": "python",
   "pygments_lexer": "ipython3",
   "version": "3.6.8"
  },
  "toc": {
   "base_numbering": 1,
   "nav_menu": {},
   "number_sections": true,
   "sideBar": true,
   "skip_h1_title": false,
   "title_cell": "Table of Contents",
   "title_sidebar": "Contents",
   "toc_cell": false,
   "toc_position": {},
   "toc_section_display": true,
   "toc_window_display": false
  },
  "varInspector": {
   "cols": {
    "lenName": 16,
    "lenType": 16,
    "lenVar": 40
   },
   "kernels_config": {
    "python": {
     "delete_cmd_postfix": "",
     "delete_cmd_prefix": "del ",
     "library": "var_list.py",
     "varRefreshCmd": "print(var_dic_list())"
    },
    "r": {
     "delete_cmd_postfix": ") ",
     "delete_cmd_prefix": "rm(",
     "library": "var_list.r",
     "varRefreshCmd": "cat(var_dic_list()) "
    }
   },
   "types_to_exclude": [
    "module",
    "function",
    "builtin_function_or_method",
    "instance",
    "_Feature"
   ],
   "window_display": false
  }
 },
 "nbformat": 4,
 "nbformat_minor": 2
}
